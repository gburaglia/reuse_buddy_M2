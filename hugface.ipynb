{
 "cells": [
  {
   "cell_type": "code",
   "execution_count": 2,
   "metadata": {},
   "outputs": [
    {
     "name": "stderr",
     "output_type": "stream",
     "text": [
      "/Users/gabrielaburaglia/Documents/GitHub/reuse_buddy_M1/.venvAI4DM/lib/python3.12/site-packages/tqdm/auto.py:21: TqdmWarning: IProgress not found. Please update jupyter and ipywidgets. See https://ipywidgets.readthedocs.io/en/stable/user_install.html\n",
      "  from .autonotebook import tqdm as notebook_tqdm\n"
     ]
    }
   ],
   "source": [
    "# Use a pipeline as a high-level helper\n",
    "from transformers import pipeline\n",
    "from dotenv import load_dotenv\n",
    "from openai import OpenAI\n",
    "import os\n",
    "import requests\n",
    "from PIL import Image\n",
    "import torch\n",
    "\n",
    "from transformers import OwlViTProcessor, OwlViTForObjectDetection\n",
    "\n"
   ]
  },
  {
   "cell_type": "code",
   "execution_count": 3,
   "metadata": {},
   "outputs": [
    {
     "data": {
      "text/plain": [
       "True"
      ]
     },
     "execution_count": 3,
     "metadata": {},
     "output_type": "execute_result"
    }
   ],
   "source": [
    "load_dotenv()"
   ]
  },
  {
   "cell_type": "code",
   "execution_count": 4,
   "metadata": {},
   "outputs": [],
   "source": [
    "def zero_shot_model(prompt,imgUrl):\n",
    "    zero_shot_pipe = pipeline(\"zero-shot-object-detection\", model=\"google/owlvit-base-patch32\")\n",
    "    # Pass the image URL and the text prompt to the model\n",
    "    result = zero_shot_pipe(imgUrl, candidate_labels=[prompt])\n",
    "    return result"
   ]
  },
  {
   "cell_type": "code",
   "execution_count": 6,
   "metadata": {},
   "outputs": [
    {
     "name": "stderr",
     "output_type": "stream",
     "text": [
      "Hardware accelerator e.g. GPU is available in the environment, but no `device` argument is passed to the `Pipeline` object. Model will be on CPU.\n"
     ]
    },
    {
     "name": "stdout",
     "output_type": "stream",
     "text": [
      "[{'score': 0.19167126715183258, 'label': 'wooden table', 'box': {'xmin': 662, 'ymin': 1250, 'xmax': 2013, 'ymax': 2258}}]\n"
     ]
    }
   ],
   "source": [
    "image_folder = 'static/imgs/shots'\n",
    "# List all image filenames in the folder\n",
    "images = os.listdir(image_folder)\n",
    "images.sort()\n",
    "scenario  = zero_shot_model(\"wooden table\",'static/imgs/1000017896.jpg')\n",
    "print(scenario)"
   ]
  },
  {
   "cell_type": "code",
   "execution_count": 7,
   "metadata": {},
   "outputs": [],
   "source": [
    "def object_detection(imgUrl):\n",
    "    # Use a pipeline as a high-level helper\n",
    "    object_detection_pipe = pipeline(\"object-detection\", model=\"facebook/detr-resnet-50\")\n",
    "    # Pass the image URL and the text prompt to the model\n",
    "    results = object_detection_pipe(imgUrl)\n",
    "    labels = [item['label'] for item in results]\n",
    "\n",
    "    return labels"
   ]
  },
  {
   "cell_type": "code",
   "execution_count": 42,
   "metadata": {},
   "outputs": [
    {
     "name": "stderr",
     "output_type": "stream",
     "text": [
      "Some weights of the model checkpoint at facebook/detr-resnet-50 were not used when initializing DetrForObjectDetection: ['model.backbone.conv_encoder.model.layer1.0.downsample.1.num_batches_tracked', 'model.backbone.conv_encoder.model.layer2.0.downsample.1.num_batches_tracked', 'model.backbone.conv_encoder.model.layer3.0.downsample.1.num_batches_tracked', 'model.backbone.conv_encoder.model.layer4.0.downsample.1.num_batches_tracked']\n",
      "- This IS expected if you are initializing DetrForObjectDetection from the checkpoint of a model trained on another task or with another architecture (e.g. initializing a BertForSequenceClassification model from a BertForPreTraining model).\n",
      "- This IS NOT expected if you are initializing DetrForObjectDetection from the checkpoint of a model that you expect to be exactly identical (initializing a BertForSequenceClassification model from a BertForSequenceClassification model).\n",
      "Hardware accelerator e.g. GPU is available in the environment, but no `device` argument is passed to the `Pipeline` object. Model will be on CPU.\n"
     ]
    },
    {
     "name": "stdout",
     "output_type": "stream",
     "text": [
      "bed\n"
     ]
    }
   ],
   "source": [
    "image_folder = 'static/imgs/shots'\n",
    "# List all image filenames in the folder\n",
    "images = os.listdir(image_folder)\n",
    "images.sort()\n",
    "scenario  = object_detection('static/imgs/shots/' + images[-1])\n",
    "unique_scenario_list = list(set(scenario))\n",
    "object_list = []\n",
    "for item in unique_scenario_list:\n",
    "    if(item!=\"person\"):\n",
    "       object_list.append(item)\n",
    "for item in object_list:\n",
    "    print(item)\n"
   ]
  },
  {
   "cell_type": "code",
   "execution_count": 40,
   "metadata": {},
   "outputs": [],
   "source": [
    "def textGeneration(msg):\n",
    "    client = OpenAI()\n",
    "    msg_list = [{\"role\": \"system\", \"content\": \"You are an advocate of sustainability. With the object given, come up with a creative way to reuse this object. \"}]\n",
    "    msg_list. append(msg)\n",
    "\n",
    "    response = client.chat.completions.create(\n",
    "        model= \"gpt-4o-mini\", #\"gpt-4o\"\n",
    "        temperature=0.2,\n",
    "        max_completion_tokens = 200, \n",
    "        messages = msg_list\n",
    "    )\n",
    "    out_message = response.choices[0].message.content\n",
    "    return(out_message)"
   ]
  },
  {
   "cell_type": "code",
   "execution_count": 41,
   "metadata": {},
   "outputs": [
    {
     "name": "stdout",
     "output_type": "stream",
     "text": [
      "A bed can be creatively reused in several sustainable ways. Here’s one idea:\n",
      "\n",
      "**Garden Bench or Planter:**\n",
      "\n",
      "1. **Transform the Bed Frame**: If you have an old bed frame, you can repurpose it into a beautiful garden bench. Remove the mattress and any bedding. Sand down the frame to remove any rough edges and paint or stain it with eco-friendly paint to protect it from the elements.\n",
      "\n",
      "2. **Add Cushions**: For comfort, you can add outdoor cushions made from recycled materials. This will create a cozy seating area in your garden or patio.\n",
      "\n",
      "3. **Create a Planter**: If you want to take it a step further, you can use the bed's headboard and footboard to create a vertical garden. Attach them to a wall or fence, and fill the space with pots or hanging planters. You can grow herbs, flowers, or even small vegetables, making it both decorative and functional.\n",
      "\n",
      "4. **Upcycle the Mattress**\n"
     ]
    }
   ],
   "source": [
    "if object_list[0]:\n",
    "    msg = {\"role\": \"user\", \"content\": object_list[0]}\n",
    "    reuse_idea = textGeneration(msg)\n",
    "    print(reuse_idea)\n",
    "else:\n",
    "    print(\"No object recognized\")\n"
   ]
  },
  {
   "cell_type": "code",
   "execution_count": null,
   "metadata": {},
   "outputs": [],
   "source": []
  }
 ],
 "metadata": {
  "kernelspec": {
   "display_name": ".venvAI4DM",
   "language": "python",
   "name": "python3"
  },
  "language_info": {
   "codemirror_mode": {
    "name": "ipython",
    "version": 3
   },
   "file_extension": ".py",
   "mimetype": "text/x-python",
   "name": "python",
   "nbconvert_exporter": "python",
   "pygments_lexer": "ipython3",
   "version": "3.12.5"
  }
 },
 "nbformat": 4,
 "nbformat_minor": 2
}
